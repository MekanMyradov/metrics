{
 "cells": [
  {
   "cell_type": "markdown",
   "metadata": {},
   "source": [
    "# Scenario 07 generation (run with metric-dev)\n",
    "- Part A generates n_cells x 2 data\n",
    "- Part B generates n_cells x 2000 data"
   ]
  },
  {
   "cell_type": "code",
   "execution_count": 1,
   "metadata": {},
   "outputs": [],
   "source": [
    "folder_date = \"2025-07-03\"\n",
    "scenario = \"scenario_07\""
   ]
  },
  {
   "cell_type": "code",
   "execution_count": 2,
   "metadata": {},
   "outputs": [],
   "source": [
    "import scanpy as sc\n",
    "import numpy as np\n",
    "import pandas as pd\n",
    "import matplotlib.pyplot as plt\n",
    "from matplotlib.lines import Line2D\n",
    "from sklearn.decomposition import PCA\n",
    "from scipy.spatial.distance import cdist"
   ]
  },
  {
   "cell_type": "code",
   "execution_count": 3,
   "metadata": {},
   "outputs": [
    {
     "data": {
      "text/plain": [
       "'results/2025-07-03/out'"
      ]
     },
     "execution_count": 3,
     "metadata": {},
     "output_type": "execute_result"
    }
   ],
   "source": [
    "results_dir = f\"results/{folder_date}/out\"\n",
    "# os.makedirs(results_dir, exist_ok=True)\n",
    "results_dir"
   ]
  },
  {
   "cell_type": "markdown",
   "metadata": {},
   "source": [
    "### Part A"
   ]
  },
  {
   "cell_type": "code",
   "execution_count": 4,
   "metadata": {
    "scrolled": true
   },
   "outputs": [],
   "source": [
    "# Set random seed for reproducibility\n",
    "np.random.seed(42)\n",
    "\n",
    "# Number of cells\n",
    "n_cells_batch1 = 550\n",
    "n_cells_batch2 = 550\n",
    "\n",
    "# Cell types\n",
    "n_type1_batch1 = 300\n",
    "n_type2_batch1 = 250\n",
    "\n",
    "n_type1_batch2 = 300\n",
    "n_type2_batch2 = 250\n",
    "\n",
    "# Generate clusters\n",
    "# Type 2 Batch 1: dense cluster at (0, 0)\n",
    "cluster1 = np.random.normal(loc=[0, 0], scale=0.2, size=(n_type2_batch1, 2))\n",
    "\n",
    "# Type 2 Batch 2: dense cluster at (1.5, 0)\n",
    "cluster2 = np.random.normal(loc=[-0.5, 0], scale=0.2, size=(n_type2_batch2, 2))\n",
    "\n",
    "# Type 1 Batch 2: at (0.5, 10) \n",
    "cluster3 = np.random.normal(loc=[0.5, 10], scale=0.1, size=(n_type1_batch2, 2))\n",
    "\n",
    "# Remaining Type 1 Batch 1 cells: dense cluster far away at (10, 10)\n",
    "cluster4 = np.random.normal(loc=[10, 10], scale=0.3, size=(n_type1_batch1, 2))\n",
    "\n",
    "# Combine all clusters\n",
    "data = np.vstack([cluster1, cluster2, cluster3, cluster4])\n",
    "\n",
    "# Create corresponding labels\n",
    "labels = (\n",
    "    ['Batch1_Type2'] * n_type2_batch1 +\n",
    "    ['Batch2_Type2'] * n_type2_batch2 +\n",
    "    ['Batch2_Type1'] * n_type1_batch2 +\n",
    "    ['Batch1_Type1'] * n_type1_batch1\n",
    ")\n",
    "\n",
    "# Batches and cell types separately\n",
    "batches = (\n",
    "    ['Batch1'] * n_type2_batch1 +\n",
    "    ['Batch2'] * n_type2_batch2 +\n",
    "    ['Batch2'] * n_type1_batch2 +\n",
    "    ['Batch1'] * n_type1_batch1\n",
    ")\n",
    "\n",
    "cell_types = (\n",
    "    ['Type2'] * n_type2_batch1 +\n",
    "    ['Type2'] * n_type2_batch2 +\n",
    "    ['Type1'] * n_type1_batch2 +\n",
    "    ['Type1'] * n_type1_batch1\n",
    ")\n",
    "\n",
    "# Create DataFrame\n",
    "df = pd.DataFrame(data, columns=['X', 'Y'])\n",
    "df['batch'] = batches\n",
    "df['cell_type'] = cell_types\n",
    "df['Label'] = labels\n",
    "\n"
   ]
  },
  {
   "cell_type": "code",
   "execution_count": 5,
   "metadata": {},
   "outputs": [
    {
     "data": {
      "text/html": [
       "<div>\n",
       "<style scoped>\n",
       "    .dataframe tbody tr th:only-of-type {\n",
       "        vertical-align: middle;\n",
       "    }\n",
       "\n",
       "    .dataframe tbody tr th {\n",
       "        vertical-align: top;\n",
       "    }\n",
       "\n",
       "    .dataframe thead th {\n",
       "        text-align: right;\n",
       "    }\n",
       "</style>\n",
       "<table border=\"1\" class=\"dataframe\">\n",
       "  <thead>\n",
       "    <tr style=\"text-align: right;\">\n",
       "      <th>CellType</th>\n",
       "      <th>Batch1</th>\n",
       "      <th>Batch2</th>\n",
       "    </tr>\n",
       "    <tr>\n",
       "      <th>Batch</th>\n",
       "      <th></th>\n",
       "      <th></th>\n",
       "    </tr>\n",
       "  </thead>\n",
       "  <tbody>\n",
       "    <tr>\n",
       "      <th>Type1</th>\n",
       "      <td>300</td>\n",
       "      <td>300</td>\n",
       "    </tr>\n",
       "    <tr>\n",
       "      <th>Type2</th>\n",
       "      <td>250</td>\n",
       "      <td>250</td>\n",
       "    </tr>\n",
       "  </tbody>\n",
       "</table>\n",
       "</div>"
      ],
      "text/plain": [
       "CellType  Batch1  Batch2\n",
       "Batch                   \n",
       "Type1        300     300\n",
       "Type2        250     250"
      ]
     },
     "execution_count": 5,
     "metadata": {},
     "output_type": "execute_result"
    }
   ],
   "source": [
    "labels = df[\"Label\"]\n",
    "# Split labels into batch and type\n",
    "cell_types = [label.split('_')[0] for label in labels]\n",
    "batches = [label.split('_')[1] for label in labels]\n",
    "\n",
    "# Create a DataFrame\n",
    "meta_df = pd.DataFrame({\n",
    "    'Batch': batches,\n",
    "    'CellType': cell_types\n",
    "})\n",
    "\n",
    "# Create contingency table\n",
    "contingency_table = pd.crosstab(meta_df['Batch'], meta_df['CellType'])\n",
    "contingency_table"
   ]
  },
  {
   "cell_type": "code",
   "execution_count": 6,
   "metadata": {},
   "outputs": [
    {
     "data": {
      "text/html": [
       "<div>\n",
       "<style scoped>\n",
       "    .dataframe tbody tr th:only-of-type {\n",
       "        vertical-align: middle;\n",
       "    }\n",
       "\n",
       "    .dataframe tbody tr th {\n",
       "        vertical-align: top;\n",
       "    }\n",
       "\n",
       "    .dataframe thead th {\n",
       "        text-align: right;\n",
       "    }\n",
       "</style>\n",
       "<table border=\"1\" class=\"dataframe\">\n",
       "  <thead>\n",
       "    <tr style=\"text-align: right;\">\n",
       "      <th></th>\n",
       "      <th>X</th>\n",
       "      <th>Y</th>\n",
       "      <th>batch</th>\n",
       "      <th>cell_type</th>\n",
       "      <th>Label</th>\n",
       "    </tr>\n",
       "  </thead>\n",
       "  <tbody>\n",
       "    <tr>\n",
       "      <th>0</th>\n",
       "      <td>0.099343</td>\n",
       "      <td>-0.027653</td>\n",
       "      <td>Batch1</td>\n",
       "      <td>Type2</td>\n",
       "      <td>Batch1_Type2</td>\n",
       "    </tr>\n",
       "    <tr>\n",
       "      <th>1</th>\n",
       "      <td>0.129538</td>\n",
       "      <td>0.304606</td>\n",
       "      <td>Batch1</td>\n",
       "      <td>Type2</td>\n",
       "      <td>Batch1_Type2</td>\n",
       "    </tr>\n",
       "    <tr>\n",
       "      <th>2</th>\n",
       "      <td>-0.046831</td>\n",
       "      <td>-0.046827</td>\n",
       "      <td>Batch1</td>\n",
       "      <td>Type2</td>\n",
       "      <td>Batch1_Type2</td>\n",
       "    </tr>\n",
       "    <tr>\n",
       "      <th>3</th>\n",
       "      <td>0.315843</td>\n",
       "      <td>0.153487</td>\n",
       "      <td>Batch1</td>\n",
       "      <td>Type2</td>\n",
       "      <td>Batch1_Type2</td>\n",
       "    </tr>\n",
       "    <tr>\n",
       "      <th>4</th>\n",
       "      <td>-0.093895</td>\n",
       "      <td>0.108512</td>\n",
       "      <td>Batch1</td>\n",
       "      <td>Type2</td>\n",
       "      <td>Batch1_Type2</td>\n",
       "    </tr>\n",
       "    <tr>\n",
       "      <th>...</th>\n",
       "      <td>...</td>\n",
       "      <td>...</td>\n",
       "      <td>...</td>\n",
       "      <td>...</td>\n",
       "      <td>...</td>\n",
       "    </tr>\n",
       "    <tr>\n",
       "      <th>1095</th>\n",
       "      <td>9.520563</td>\n",
       "      <td>10.138652</td>\n",
       "      <td>Batch1</td>\n",
       "      <td>Type1</td>\n",
       "      <td>Batch1_Type1</td>\n",
       "    </tr>\n",
       "    <tr>\n",
       "      <th>1096</th>\n",
       "      <td>10.607293</td>\n",
       "      <td>9.591048</td>\n",
       "      <td>Batch1</td>\n",
       "      <td>Type1</td>\n",
       "      <td>Batch1_Type1</td>\n",
       "    </tr>\n",
       "    <tr>\n",
       "      <th>1097</th>\n",
       "      <td>10.056912</td>\n",
       "      <td>9.801405</td>\n",
       "      <td>Batch1</td>\n",
       "      <td>Type1</td>\n",
       "      <td>Batch1_Type1</td>\n",
       "    </tr>\n",
       "    <tr>\n",
       "      <th>1098</th>\n",
       "      <td>10.127766</td>\n",
       "      <td>10.005744</td>\n",
       "      <td>Batch1</td>\n",
       "      <td>Type1</td>\n",
       "      <td>Batch1_Type1</td>\n",
       "    </tr>\n",
       "    <tr>\n",
       "      <th>1099</th>\n",
       "      <td>9.807554</td>\n",
       "      <td>10.146362</td>\n",
       "      <td>Batch1</td>\n",
       "      <td>Type1</td>\n",
       "      <td>Batch1_Type1</td>\n",
       "    </tr>\n",
       "  </tbody>\n",
       "</table>\n",
       "<p>1100 rows × 5 columns</p>\n",
       "</div>"
      ],
      "text/plain": [
       "              X          Y   batch cell_type         Label\n",
       "0      0.099343  -0.027653  Batch1     Type2  Batch1_Type2\n",
       "1      0.129538   0.304606  Batch1     Type2  Batch1_Type2\n",
       "2     -0.046831  -0.046827  Batch1     Type2  Batch1_Type2\n",
       "3      0.315843   0.153487  Batch1     Type2  Batch1_Type2\n",
       "4     -0.093895   0.108512  Batch1     Type2  Batch1_Type2\n",
       "...         ...        ...     ...       ...           ...\n",
       "1095   9.520563  10.138652  Batch1     Type1  Batch1_Type1\n",
       "1096  10.607293   9.591048  Batch1     Type1  Batch1_Type1\n",
       "1097  10.056912   9.801405  Batch1     Type1  Batch1_Type1\n",
       "1098  10.127766  10.005744  Batch1     Type1  Batch1_Type1\n",
       "1099   9.807554  10.146362  Batch1     Type1  Batch1_Type1\n",
       "\n",
       "[1100 rows x 5 columns]"
      ]
     },
     "execution_count": 6,
     "metadata": {},
     "output_type": "execute_result"
    }
   ],
   "source": [
    "df"
   ]
  },
  {
   "cell_type": "code",
   "execution_count": 7,
   "metadata": {},
   "outputs": [],
   "source": [
    "#convert to anndata\n",
    "adata = sc.AnnData(np.random.rand(1100, 600))\n",
    "adata.obs = df"
   ]
  },
  {
   "cell_type": "code",
   "execution_count": 8,
   "metadata": {},
   "outputs": [],
   "source": [
    "adata.obsm[\"X_pca\"] = np.array(df[[\"X\", \"Y\"]])\n",
    "adata.obsm[\"X_umap\"] = np.array(df[[\"X\", \"Y\"]])"
   ]
  },
  {
   "cell_type": "code",
   "execution_count": 9,
   "metadata": {},
   "outputs": [
    {
     "data": {
      "text/plain": [
       "AnnData object with n_obs × n_vars = 1100 × 600\n",
       "    obs: 'X', 'Y', 'batch', 'cell_type', 'Label'\n",
       "    obsm: 'X_pca', 'X_umap'"
      ]
     },
     "execution_count": 9,
     "metadata": {},
     "output_type": "execute_result"
    }
   ],
   "source": [
    "adata"
   ]
  },
  {
   "cell_type": "code",
   "execution_count": 10,
   "metadata": {},
   "outputs": [
    {
     "data": {
      "text/plain": [
       "array([[0.47690011, 0.71833118, 0.24734032, ..., 0.80666505, 0.85802327,\n",
       "        0.9976283 ],\n",
       "       [0.24149649, 0.04035083, 0.41119152, ..., 0.26817437, 0.36107473,\n",
       "        0.40845558],\n",
       "       [0.67969722, 0.05668043, 0.0346727 , ..., 0.89699529, 0.84612421,\n",
       "        0.18281339],\n",
       "       ...,\n",
       "       [0.02245632, 0.09951802, 0.07028588, ..., 0.36341283, 0.83501264,\n",
       "        0.66438833],\n",
       "       [0.41162097, 0.49570216, 0.14049282, ..., 0.8512561 , 0.5676251 ,\n",
       "        0.01997402],\n",
       "       [0.70856548, 0.88559218, 0.31512955, ..., 0.32853572, 0.97065691,\n",
       "        0.25202568]])"
      ]
     },
     "execution_count": 10,
     "metadata": {},
     "output_type": "execute_result"
    }
   ],
   "source": [
    "adata.X"
   ]
  },
  {
   "cell_type": "code",
   "execution_count": null,
   "metadata": {},
   "outputs": [],
   "source": [
    "adata.write(\"scenarios/2025-06-01_scenario_07.h5ad\")"
   ]
  },
  {
   "cell_type": "markdown",
   "metadata": {},
   "source": [
    "### Part B"
   ]
  },
  {
   "cell_type": "code",
   "execution_count": 4,
   "metadata": {},
   "outputs": [],
   "source": [
    "np.random.seed(42)"
   ]
  },
  {
   "cell_type": "code",
   "execution_count": 5,
   "metadata": {},
   "outputs": [],
   "source": [
    "n_cells_batch1 = 550\n",
    "n_cells_batch2 = 550\n",
    "\n",
    "# Cell types\n",
    "n_type1_batch1 = 300\n",
    "n_type2_batch1 = 250\n",
    "\n",
    "n_type1_batch2 = 300\n",
    "n_type2_batch2 = 250"
   ]
  },
  {
   "cell_type": "code",
   "execution_count": 6,
   "metadata": {},
   "outputs": [
    {
     "data": {
      "text/plain": [
       "(1100, 2)"
      ]
     },
     "execution_count": 6,
     "metadata": {},
     "output_type": "execute_result"
    }
   ],
   "source": [
    "cluster1 = np.random.normal(loc=[0, 0], scale=0.2, size=(n_type2_batch1, 2))\n",
    "\n",
    "cluster2 = np.random.normal(loc=[-0.5, 0], scale=0.2, size=(n_type2_batch2, 2))\n",
    "\n",
    "cluster3 = np.random.normal(loc=[0.5, 10], scale=0.1, size=(n_type1_batch2, 2))\n",
    "\n",
    "cluster4 = np.random.normal(loc=[10, 10], scale=0.3, size=(n_type1_batch1, 2))\n",
    "\n",
    "Z = np.vstack([cluster1, cluster2, cluster3, cluster4])\n",
    "Z.shape"
   ]
  },
  {
   "cell_type": "code",
   "execution_count": 7,
   "metadata": {},
   "outputs": [
    {
     "data": {
      "text/plain": [
       "array([[ 0.09934283, -0.02765286],\n",
       "       [ 0.12953771,  0.30460597],\n",
       "       [-0.04683067, -0.04682739],\n",
       "       ...,\n",
       "       [10.05691185,  9.80140535],\n",
       "       [10.12776616, 10.00574433],\n",
       "       [ 9.80755393, 10.14636169]])"
      ]
     },
     "execution_count": 7,
     "metadata": {},
     "output_type": "execute_result"
    }
   ],
   "source": [
    "Z"
   ]
  },
  {
   "cell_type": "code",
   "execution_count": 8,
   "metadata": {},
   "outputs": [
    {
     "data": {
      "text/html": [
       "<div>\n",
       "<style scoped>\n",
       "    .dataframe tbody tr th:only-of-type {\n",
       "        vertical-align: middle;\n",
       "    }\n",
       "\n",
       "    .dataframe tbody tr th {\n",
       "        vertical-align: top;\n",
       "    }\n",
       "\n",
       "    .dataframe thead th {\n",
       "        text-align: right;\n",
       "    }\n",
       "</style>\n",
       "<table border=\"1\" class=\"dataframe\">\n",
       "  <thead>\n",
       "    <tr style=\"text-align: right;\">\n",
       "      <th></th>\n",
       "      <th>batch</th>\n",
       "      <th>cell_type</th>\n",
       "    </tr>\n",
       "  </thead>\n",
       "  <tbody>\n",
       "    <tr>\n",
       "      <th>0</th>\n",
       "      <td>Batch1</td>\n",
       "      <td>Type2</td>\n",
       "    </tr>\n",
       "    <tr>\n",
       "      <th>1</th>\n",
       "      <td>Batch1</td>\n",
       "      <td>Type2</td>\n",
       "    </tr>\n",
       "    <tr>\n",
       "      <th>2</th>\n",
       "      <td>Batch1</td>\n",
       "      <td>Type2</td>\n",
       "    </tr>\n",
       "    <tr>\n",
       "      <th>3</th>\n",
       "      <td>Batch1</td>\n",
       "      <td>Type2</td>\n",
       "    </tr>\n",
       "    <tr>\n",
       "      <th>4</th>\n",
       "      <td>Batch1</td>\n",
       "      <td>Type2</td>\n",
       "    </tr>\n",
       "    <tr>\n",
       "      <th>...</th>\n",
       "      <td>...</td>\n",
       "      <td>...</td>\n",
       "    </tr>\n",
       "    <tr>\n",
       "      <th>1095</th>\n",
       "      <td>Batch1</td>\n",
       "      <td>Type1</td>\n",
       "    </tr>\n",
       "    <tr>\n",
       "      <th>1096</th>\n",
       "      <td>Batch1</td>\n",
       "      <td>Type1</td>\n",
       "    </tr>\n",
       "    <tr>\n",
       "      <th>1097</th>\n",
       "      <td>Batch1</td>\n",
       "      <td>Type1</td>\n",
       "    </tr>\n",
       "    <tr>\n",
       "      <th>1098</th>\n",
       "      <td>Batch1</td>\n",
       "      <td>Type1</td>\n",
       "    </tr>\n",
       "    <tr>\n",
       "      <th>1099</th>\n",
       "      <td>Batch1</td>\n",
       "      <td>Type1</td>\n",
       "    </tr>\n",
       "  </tbody>\n",
       "</table>\n",
       "<p>1100 rows × 2 columns</p>\n",
       "</div>"
      ],
      "text/plain": [
       "       batch cell_type\n",
       "0     Batch1     Type2\n",
       "1     Batch1     Type2\n",
       "2     Batch1     Type2\n",
       "3     Batch1     Type2\n",
       "4     Batch1     Type2\n",
       "...      ...       ...\n",
       "1095  Batch1     Type1\n",
       "1096  Batch1     Type1\n",
       "1097  Batch1     Type1\n",
       "1098  Batch1     Type1\n",
       "1099  Batch1     Type1\n",
       "\n",
       "[1100 rows x 2 columns]"
      ]
     },
     "execution_count": 8,
     "metadata": {},
     "output_type": "execute_result"
    }
   ],
   "source": [
    "batches = (\n",
    "    ['Batch1'] * n_type2_batch1 +\n",
    "    ['Batch2'] * n_type2_batch2 +\n",
    "    ['Batch2'] * n_type1_batch2 +\n",
    "    ['Batch1'] * n_type1_batch1\n",
    ")\n",
    "\n",
    "cell_types = (\n",
    "    ['Type2'] * n_type2_batch1 +\n",
    "    ['Type2'] * n_type2_batch2 +\n",
    "    ['Type1'] * n_type1_batch2 +\n",
    "    ['Type1'] * n_type1_batch1\n",
    ")\n",
    "\n",
    "meta = pd.DataFrame({\n",
    "    'batch': batches,\n",
    "    'cell_type': cell_types\n",
    "})\n",
    "\n",
    "meta"
   ]
  },
  {
   "cell_type": "markdown",
   "metadata": {},
   "source": [
    "##### Lift 2-D data to 2000-D: X = Z @ W^T + E"
   ]
  },
  {
   "cell_type": "code",
   "execution_count": 9,
   "metadata": {},
   "outputs": [],
   "source": [
    "n_genes = 2000\n",
    "\n",
    "noise_sigma = 0.1   # shrink if PCs are too spread out; increase if PCs are too close together"
   ]
  },
  {
   "cell_type": "code",
   "execution_count": 10,
   "metadata": {},
   "outputs": [
    {
     "data": {
      "text/plain": [
       "(2000, 2)"
      ]
     },
     "execution_count": 10,
     "metadata": {},
     "output_type": "execute_result"
    }
   ],
   "source": [
    "# create n_genes x 2 matrix\n",
    "A = np.random.normal(size=(n_genes, 2))\n",
    "A.shape"
   ]
  },
  {
   "cell_type": "code",
   "execution_count": 11,
   "metadata": {},
   "outputs": [
    {
     "data": {
      "text/plain": [
       "((2000, 2), (2, 2))"
      ]
     },
     "execution_count": 11,
     "metadata": {},
     "output_type": "execute_result"
    }
   ],
   "source": [
    "# QR decomposition to get orthogonal matrix Q\n",
    "Q, R = np.linalg.qr(A)\n",
    "Q.shape, R.shape"
   ]
  },
  {
   "cell_type": "code",
   "execution_count": 12,
   "metadata": {},
   "outputs": [
    {
     "data": {
      "text/plain": [
       "(1100, 2000)"
      ]
     },
     "execution_count": 12,
     "metadata": {},
     "output_type": "execute_result"
    }
   ],
   "source": [
    "W = Q\n",
    "X_signal = Z @ W.T\n",
    "X_signal.shape"
   ]
  },
  {
   "cell_type": "code",
   "execution_count": 13,
   "metadata": {},
   "outputs": [
    {
     "data": {
      "text/plain": [
       "(1100, 2000)"
      ]
     },
     "execution_count": 13,
     "metadata": {},
     "output_type": "execute_result"
    }
   ],
   "source": [
    "E = np.random.normal(scale=noise_sigma, size=X_signal.shape)\n",
    "E.shape"
   ]
  },
  {
   "cell_type": "code",
   "execution_count": 14,
   "metadata": {},
   "outputs": [
    {
     "data": {
      "text/plain": [
       "(1100, 2000)"
      ]
     },
     "execution_count": 14,
     "metadata": {},
     "output_type": "execute_result"
    }
   ],
   "source": [
    "# final 2000-D data matrix\n",
    "X = X_signal + E\n",
    "X.shape"
   ]
  },
  {
   "cell_type": "code",
   "execution_count": 15,
   "metadata": {},
   "outputs": [
    {
     "data": {
      "text/html": [
       "<div>\n",
       "<style scoped>\n",
       "    .dataframe tbody tr th:only-of-type {\n",
       "        vertical-align: middle;\n",
       "    }\n",
       "\n",
       "    .dataframe tbody tr th {\n",
       "        vertical-align: top;\n",
       "    }\n",
       "\n",
       "    .dataframe thead th {\n",
       "        text-align: right;\n",
       "    }\n",
       "</style>\n",
       "<table border=\"1\" class=\"dataframe\">\n",
       "  <thead>\n",
       "    <tr style=\"text-align: right;\">\n",
       "      <th></th>\n",
       "      <th>PC1</th>\n",
       "      <th>PC2</th>\n",
       "      <th>batch</th>\n",
       "      <th>cell_type</th>\n",
       "    </tr>\n",
       "  </thead>\n",
       "  <tbody>\n",
       "    <tr>\n",
       "      <th>0</th>\n",
       "      <td>-5.864217</td>\n",
       "      <td>-1.246088</td>\n",
       "      <td>Batch1</td>\n",
       "      <td>Type2</td>\n",
       "    </tr>\n",
       "    <tr>\n",
       "      <th>1</th>\n",
       "      <td>-5.593175</td>\n",
       "      <td>-1.261557</td>\n",
       "      <td>Batch1</td>\n",
       "      <td>Type2</td>\n",
       "    </tr>\n",
       "    <tr>\n",
       "      <th>2</th>\n",
       "      <td>-5.920039</td>\n",
       "      <td>-1.399823</td>\n",
       "      <td>Batch1</td>\n",
       "      <td>Type2</td>\n",
       "    </tr>\n",
       "    <tr>\n",
       "      <th>3</th>\n",
       "      <td>-5.807669</td>\n",
       "      <td>-1.522517</td>\n",
       "      <td>Batch1</td>\n",
       "      <td>Type2</td>\n",
       "    </tr>\n",
       "    <tr>\n",
       "      <th>4</th>\n",
       "      <td>-5.824877</td>\n",
       "      <td>-1.198626</td>\n",
       "      <td>Batch1</td>\n",
       "      <td>Type2</td>\n",
       "    </tr>\n",
       "  </tbody>\n",
       "</table>\n",
       "</div>"
      ],
      "text/plain": [
       "        PC1       PC2   batch cell_type\n",
       "0 -5.864217 -1.246088  Batch1     Type2\n",
       "1 -5.593175 -1.261557  Batch1     Type2\n",
       "2 -5.920039 -1.399823  Batch1     Type2\n",
       "3 -5.807669 -1.522517  Batch1     Type2\n",
       "4 -5.824877 -1.198626  Batch1     Type2"
      ]
     },
     "execution_count": 15,
     "metadata": {},
     "output_type": "execute_result"
    }
   ],
   "source": [
    "# apply PCA to verify\n",
    "pca = PCA(n_components=2, random_state=42)\n",
    "PC = pca.fit_transform(X)\n",
    "df_pc = pd.DataFrame(PC, columns=['PC1', 'PC2']).join(meta)\n",
    "df_pc.head()"
   ]
  },
  {
   "cell_type": "code",
   "execution_count": 16,
   "metadata": {},
   "outputs": [
    {
     "name": "stdout",
     "output_type": "stream",
     "text": [
      "Shapes — Z: (1100, 2) | X: (1100, 2000) | PC: (1100, 2)\n",
      "Explained variance ratio (PC1, PC2): [0.5601298  0.13132945]\n"
     ]
    }
   ],
   "source": [
    "print(\"Shapes — Z:\", Z.shape, \"| X:\", X.shape, \"| PC:\", PC.shape)\n",
    "print(\"Explained variance ratio (PC1, PC2):\", pca.explained_variance_ratio_[:2])"
   ]
  },
  {
   "cell_type": "markdown",
   "metadata": {},
   "source": [
    "##### Plot: color by batch, marker shape by cell type"
   ]
  },
  {
   "cell_type": "code",
   "execution_count": 17,
   "metadata": {},
   "outputs": [
    {
     "data": {
      "text/plain": [
       "['Batch1', 'Batch2']"
      ]
     },
     "execution_count": 17,
     "metadata": {},
     "output_type": "execute_result"
    }
   ],
   "source": [
    "# color map for batches\n",
    "batch_order = sorted(df_pc['batch'].unique())\n",
    "batch_order"
   ]
  },
  {
   "cell_type": "code",
   "execution_count": 18,
   "metadata": {},
   "outputs": [
    {
     "data": {
      "text/plain": [
       "['#1f77b4',\n",
       " '#ff7f0e',\n",
       " '#2ca02c',\n",
       " '#d62728',\n",
       " '#9467bd',\n",
       " '#8c564b',\n",
       " '#e377c2',\n",
       " '#7f7f7f',\n",
       " '#bcbd22',\n",
       " '#17becf']"
      ]
     },
     "execution_count": 18,
     "metadata": {},
     "output_type": "execute_result"
    }
   ],
   "source": [
    "colors = plt.rcParams['axes.prop_cycle'].by_key()['color']\n",
    "colors"
   ]
  },
  {
   "cell_type": "code",
   "execution_count": 19,
   "metadata": {},
   "outputs": [
    {
     "data": {
      "text/plain": [
       "{'Batch1': '#1f77b4', 'Batch2': '#ff7f0e'}"
      ]
     },
     "execution_count": 19,
     "metadata": {},
     "output_type": "execute_result"
    }
   ],
   "source": [
    "batch2color = {b: colors[i % len(colors)] for i, b in enumerate(batch_order)}\n",
    "batch2color"
   ]
  },
  {
   "cell_type": "code",
   "execution_count": 20,
   "metadata": {},
   "outputs": [
    {
     "data": {
      "text/plain": [
       "{'Type1': 'o', 'Type2': 's'}"
      ]
     },
     "execution_count": 20,
     "metadata": {},
     "output_type": "execute_result"
    }
   ],
   "source": [
    "# marker map for cell types\n",
    "ctype_order = sorted(df_pc['cell_type'].unique())  # e.g., ['Type1', 'Type2']\n",
    "markers = ['o', 's', '^', 'D', 'P', 'X']           # enough shapes if more types appear\n",
    "ctype2marker = {ct: markers[i % len(markers)] for i, ct in enumerate(ctype_order)}\n",
    "\n",
    "ctype2marker"
   ]
  },
  {
   "cell_type": "code",
   "execution_count": 21,
   "metadata": {},
   "outputs": [
    {
     "data": {
      "image/png": "[encoded data removed]",
      "text/plain": [
       "<Figure size 750x650 with 1 Axes>"
      ]
     },
     "metadata": {},
     "output_type": "display_data"
    }
   ],
   "source": [
    "plt.figure(figsize=(7.5, 6.5))\n",
    "for ct in ctype_order:\n",
    "    for b in batch_order:\n",
    "        mask = (df_pc['cell_type'] == ct) & (df_pc['batch'] == b)\n",
    "        if not mask.any():\n",
    "            continue\n",
    "        plt.scatter(\n",
    "            df_pc.loc[mask, 'PC1'],\n",
    "            df_pc.loc[mask, 'PC2'],\n",
    "            s=10,\n",
    "            alpha=0.7,\n",
    "            marker=ctype2marker[ct],\n",
    "            c=batch2color[b],\n",
    "            edgecolor='none',\n",
    "            label=f\"{ct} • {b}\"\n",
    "        )\n",
    "\n",
    "plt.xlabel(\"PC1\")\n",
    "plt.ylabel(\"PC2\")\n",
    "plt.title(\"PCA (2000-D → 2 PCs): color = Batch, shape = Cell Type\")\n",
    "\n",
    "# Create two clean legends (one for color/batch, one for marker/ctype)\n",
    "batch_handles = [Line2D([0], [0], marker='o', linestyle='',\n",
    "                        color=batch2color[b], label=b) for b in batch_order]\n",
    "ctype_handles = [Line2D([0], [0], marker=ctype2marker[ct], linestyle='',\n",
    "                        color='black', label=ct) for ct in ctype_order]\n",
    "\n",
    "legend1 = plt.legend(handles=batch_handles, title=\"Batch\", loc='upper right')\n",
    "plt.gca().add_artist(legend1)\n",
    "plt.legend(handles=ctype_handles, title=\"Cell Type\", loc='lower right')\n",
    "\n",
    "plt.tight_layout()\n",
    "plt.show()\n"
   ]
  },
  {
   "cell_type": "markdown",
   "metadata": {},
   "source": [
    "##### Save as anndata"
   ]
  },
  {
   "cell_type": "code",
   "execution_count": 22,
   "metadata": {},
   "outputs": [
    {
     "data": {
      "text/plain": [
       "AnnData object with n_obs × n_vars = 1100 × 2000\n",
       "    obs: 'batch', 'cell_type'"
      ]
     },
     "execution_count": 22,
     "metadata": {},
     "output_type": "execute_result"
    }
   ],
   "source": [
    "adata = sc.AnnData(X)\n",
    "adata.obs = df_pc[['batch', 'cell_type']]\n",
    "\n",
    "adata"
   ]
  },
  {
   "cell_type": "code",
   "execution_count": 23,
   "metadata": {},
   "outputs": [
    {
     "data": {
      "text/plain": [
       "array([[-0.05912116, -0.11052128,  0.231028  , ...,  0.21385785,\n",
       "         0.22412093,  0.00884924],\n",
       "       [-0.39021613,  0.11284366, -0.04805631, ...,  0.10994185,\n",
       "         0.13009719,  0.02915008],\n",
       "       [ 0.03126802,  0.02351137,  0.04741697, ...,  0.01469667,\n",
       "        -0.08584642,  0.00180107],\n",
       "       ...,\n",
       "       [-0.47832468, -0.36819346,  0.25202031, ...,  0.69411421,\n",
       "         0.24020729, -0.14013472],\n",
       "       [-0.52095189, -0.51686216,  0.50243352, ...,  0.66921538,\n",
       "         0.03845464, -0.10341513],\n",
       "       [-0.3988759 , -0.611997  ,  0.39572608, ...,  0.58092722,\n",
       "         0.23680627,  0.0671919 ]])"
      ]
     },
     "execution_count": 23,
     "metadata": {},
     "output_type": "execute_result"
    }
   ],
   "source": [
    "adata.X"
   ]
  },
  {
   "cell_type": "code",
   "execution_count": 24,
   "metadata": {},
   "outputs": [
    {
     "data": {
      "text/plain": [
       "(np.float64(-0.003288368195681849),\n",
       " np.float64(-1.364610533188139),\n",
       " np.float64(1.4633192711611653))"
      ]
     },
     "execution_count": 24,
     "metadata": {},
     "output_type": "execute_result"
    }
   ],
   "source": [
    "adata.X.mean(), adata.X.min(), adata.X.max()"
   ]
  },
  {
   "cell_type": "code",
   "execution_count": 25,
   "metadata": {},
   "outputs": [
    {
     "name": "stderr",
     "output_type": "stream",
     "text": [
      "/home/mekan/anaconda3/envs/metric-dev/lib/python3.11/site-packages/anndata/_core/anndata.py:1146: SettingWithCopyWarning: \n",
      "A value is trying to be set on a copy of a slice from a DataFrame.\n",
      "Try using .loc[row_indexer,col_indexer] = value instead\n",
      "\n",
      "See the caveats in the documentation: https://pandas.pydata.org/pandas-docs/stable/user_guide/indexing.html#returning-a-view-versus-a-copy\n",
      "  df[key] = c\n",
      "/home/mekan/anaconda3/envs/metric-dev/lib/python3.11/site-packages/anndata/_core/anndata.py:1146: SettingWithCopyWarning: \n",
      "A value is trying to be set on a copy of a slice from a DataFrame.\n",
      "Try using .loc[row_indexer,col_indexer] = value instead\n",
      "\n",
      "See the caveats in the documentation: https://pandas.pydata.org/pandas-docs/stable/user_guide/indexing.html#returning-a-view-versus-a-copy\n",
      "  df[key] = c\n"
     ]
    }
   ],
   "source": [
    "adata.write(\"scenarios/2025-06-01_scenario_07_n_genes_2000.h5ad\")"
   ]
  },
  {
   "cell_type": "code",
   "execution_count": null,
   "metadata": {},
   "outputs": [],
   "source": []
  }
 ],
 "metadata": {
  "kernelspec": {
   "display_name": "metric-dev",
   "language": "python",
   "name": "python3"
  },
  "language_info": {
   "codemirror_mode": {
    "name": "ipython",
    "version": 3
   },
   "file_extension": ".py",
   "mimetype": "text/x-python",
   "name": "python",
   "nbconvert_exporter": "python",
   "pygments_lexer": "ipython3",
   "version": "3.11.11"
  }
 },
 "nbformat": 4,
 "nbformat_minor": 2
}
